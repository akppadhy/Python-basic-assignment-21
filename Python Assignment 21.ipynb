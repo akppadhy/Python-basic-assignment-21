{
 "cells": [
  {
   "cell_type": "code",
   "execution_count": 1,
   "id": "53176706-ad9b-4c52-a8ab-bac370a3a019",
   "metadata": {},
   "outputs": [],
   "source": [
    "#1. Add the current date to the text file today.txt as a string.\n",
    "\n",
    "from datetime import date\n",
    "now = date.today()\n",
    "now_str = now.isoformat()\n",
    "with open('today.txt', 'wt') as output:\n",
    "    print(now_str, file=output)"
   ]
  },
  {
   "cell_type": "code",
   "execution_count": 2,
   "id": "3002512b-e9e0-4bf5-8cb2-db68d69d190f",
   "metadata": {},
   "outputs": [
    {
     "data": {
      "text/plain": [
       "'2023-07-13\\n'"
      ]
     },
     "execution_count": 2,
     "metadata": {},
     "output_type": "execute_result"
    }
   ],
   "source": [
    "#2. Read the text file today.txt into the string today_string\n",
    "\n",
    "with open('today.txt', 'rt') as input:\n",
    "    today_string = input.read()\n",
    "    \n",
    "today_string"
   ]
  },
  {
   "cell_type": "code",
   "execution_count": 3,
   "id": "61caa9b8-bf25-4502-a3b8-908cd391c58f",
   "metadata": {},
   "outputs": [
    {
     "data": {
      "text/plain": [
       "datetime.datetime(2023, 7, 13, 0, 0)"
      ]
     },
     "execution_count": 3,
     "metadata": {},
     "output_type": "execute_result"
    }
   ],
   "source": [
    "#3. Parse the date from today_string.\n",
    "\n",
    "from datetime import datetime\n",
    "fmt = '%Y-%m-%d\\n'\n",
    "datetime.strptime(today_string, fmt)"
   ]
  },
  {
   "cell_type": "code",
   "execution_count": 4,
   "id": "8fde71b7-76c7-41b0-8d68-c14710cc6db6",
   "metadata": {},
   "outputs": [
    {
     "data": {
      "text/plain": [
       "['README.md',\n",
       " 'Python Assignment 5.ipynb',\n",
       " 'Python Assignment 21.ipynb',\n",
       " 'Python Assignment 9.ipynb',\n",
       " 'Python basic Assignment3.ipynb',\n",
       " 'test.txt',\n",
       " 'newimg.jpg',\n",
       " 'sample-code.ipynb',\n",
       " 'Python basic assignment 2.ipynb',\n",
       " 'zoo.py',\n",
       " 'Python Assignment 13.ipynb',\n",
       " 'abhash.jpg',\n",
       " 'Python Assignment 19.ipynb',\n",
       " '.git',\n",
       " 'Python Assignment 12.ipynb',\n",
       " 'Python Assignment 16.ipynb',\n",
       " 'Python Assignment 18.ipynb',\n",
       " 'Python Assignment 7.ipynb',\n",
       " 'Python Assignment 17.ipynb',\n",
       " 'Python Assignment 14.ipynb',\n",
       " 'Python Assignment 20.ipynb',\n",
       " 'Python Assignment 8.ipynb',\n",
       " 'Python Assignment 15.ipynb',\n",
       " 'Python Assignment 11.ipynb',\n",
       " '__pycache__',\n",
       " 'books.db',\n",
       " 'Python Assignment 10.ipynb',\n",
       " 'Python_stats.ipynb',\n",
       " '.ipynb_checkpoints',\n",
       " 'new.zip',\n",
       " 'today.txt',\n",
       " 'Python Assignmwnt 4.ipynb',\n",
       " 'books.csv',\n",
       " 'Python Assignment 6.ipynb']"
      ]
     },
     "execution_count": 4,
     "metadata": {},
     "output_type": "execute_result"
    }
   ],
   "source": [
    "#4. List the files in your current directory\n",
    "\n",
    "import os\n",
    "os.listdir('.')"
   ]
  },
  {
   "cell_type": "code",
   "execution_count": 5,
   "id": "9974b934-82f6-4836-aa96-cdd46c8ffa6b",
   "metadata": {},
   "outputs": [
    {
     "data": {
      "text/plain": [
       "['.profile',\n",
       " '.bash_logout',\n",
       " '.bashrc',\n",
       " '.ipython',\n",
       " '.cache',\n",
       " '.jupyter',\n",
       " '.local',\n",
       " '.conda',\n",
       " '.config',\n",
       " '.npm',\n",
       " '.wget-hsts',\n",
       " 'work']"
      ]
     },
     "execution_count": 5,
     "metadata": {},
     "output_type": "execute_result"
    }
   ],
   "source": [
    "#5. Create a list of all of the files in your parent directory (minimum five files should be available).\n",
    "\n",
    "os.listdir('..')\n"
   ]
  },
  {
   "cell_type": "code",
   "execution_count": 6,
   "id": "61f678b6-4e38-41ad-94a0-f26943ee0938",
   "metadata": {},
   "outputs": [
    {
     "name": "stdout",
     "output_type": "stream",
     "text": [
      "python: can't open file '/home/jovyan/work/multi_process.py': [Errno 2] No such file or directory\n"
     ]
    }
   ],
   "source": [
    "#6. Use multiprocessing to create three separate processes. Make each one wait a random number of seconds between one and five, print the current time, and then exit.\n",
    "\n",
    "!python multi_process.py"
   ]
  },
  {
   "cell_type": "code",
   "execution_count": 7,
   "id": "9a177caa-6cc9-48c0-b29a-cf06f7235ccb",
   "metadata": {},
   "outputs": [
    {
     "data": {
      "text/plain": [
       "datetime.date(1996, 8, 10)"
      ]
     },
     "execution_count": 7,
     "metadata": {},
     "output_type": "execute_result"
    }
   ],
   "source": [
    "#7. Create a date object of your day of birth.\n",
    "\n",
    "my_day = date(1996, 8, 10)\n",
    "my_day"
   ]
  },
  {
   "cell_type": "code",
   "execution_count": null,
   "id": "bc7c06f8-0823-4ef7-863d-16e2d793bc48",
   "metadata": {},
   "outputs": [],
   "source": [
    "#8. What day of the week was your day of birth?\n",
    "\n",
    "Ans. With weekday(), Monday is 0 and Sunday is 6. With isoweekday(), Monday is 1 and Sunday is 7. Therefore, this date is a Saturday."
   ]
  },
  {
   "cell_type": "code",
   "execution_count": 8,
   "id": "7ce057e6-2ee2-4271-8b85-e525b85e80e3",
   "metadata": {},
   "outputs": [
    {
     "data": {
      "text/plain": [
       "5"
      ]
     },
     "execution_count": 8,
     "metadata": {},
     "output_type": "execute_result"
    }
   ],
   "source": [
    "my_day.weekday()"
   ]
  },
  {
   "cell_type": "code",
   "execution_count": 9,
   "id": "e8064921-1213-4fa6-9275-0ea2233042ea",
   "metadata": {},
   "outputs": [
    {
     "data": {
      "text/plain": [
       "6"
      ]
     },
     "execution_count": 9,
     "metadata": {},
     "output_type": "execute_result"
    }
   ],
   "source": [
    "my_day.isoweekday()\n"
   ]
  },
  {
   "cell_type": "code",
   "execution_count": 10,
   "id": "aba52cb0-9bd3-43d7-844c-a2f31e98fd1d",
   "metadata": {},
   "outputs": [
    {
     "data": {
      "text/plain": [
       "datetime.date(2023, 12, 27)"
      ]
     },
     "execution_count": 10,
     "metadata": {},
     "output_type": "execute_result"
    }
   ],
   "source": [
    "#9. When will you be (or when were you) 10,000 days old?\n",
    "\n",
    "from datetime import timedelta\n",
    "ten_thousand = my_day + timedelta(days=10000)\n",
    "ten_thousand"
   ]
  },
  {
   "cell_type": "code",
   "execution_count": null,
   "id": "99ead70b-db67-4395-ac45-99e34920e645",
   "metadata": {},
   "outputs": [],
   "source": []
  }
 ],
 "metadata": {
  "kernelspec": {
   "display_name": "Python 3 (ipykernel)",
   "language": "python",
   "name": "python3"
  },
  "language_info": {
   "codemirror_mode": {
    "name": "ipython",
    "version": 3
   },
   "file_extension": ".py",
   "mimetype": "text/x-python",
   "name": "python",
   "nbconvert_exporter": "python",
   "pygments_lexer": "ipython3",
   "version": "3.10.6"
  }
 },
 "nbformat": 4,
 "nbformat_minor": 5
}
